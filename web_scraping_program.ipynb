{
  "nbformat": 4,
  "nbformat_minor": 0,
  "metadata": {
    "colab": {
      "provenance": [],
      "mount_file_id": "1hhMllMvawCUyuzAiGopnT-WXTjeyX-1q",
      "authorship_tag": "ABX9TyN6VJcBYG0iov6WIGSdzPXH",
      "include_colab_link": true
    },
    "kernelspec": {
      "name": "python3",
      "display_name": "Python 3"
    },
    "language_info": {
      "name": "python"
    }
  },
  "cells": [
    {
      "cell_type": "markdown",
      "metadata": {
        "id": "view-in-github",
        "colab_type": "text"
      },
      "source": [
        "<a href=\"https://colab.research.google.com/github/kdambrowski/Board_Game_Data_Scraper_and_Processor/blob/main/web_scraping_program.ipynb\" target=\"_parent\"><img src=\"https://colab.research.google.com/assets/colab-badge.svg\" alt=\"Open In Colab\"/></a>"
      ]
    },
    {
      "cell_type": "markdown",
      "source": [
        "# Project description\n",
        "\n",
        "This project focuses on scraping and processing board game data from BoardGameGeek (BGG) using various Python functions and libraries. The goal is to collect detailed information about board games and prepare it for further analysis or presentation. The project utilizes web scraping techniques, data manipulation with Pandas, and data extraction from JSON-like structures."
      ],
      "metadata": {
        "id": "oqDZ22mUs7_E"
      }
    },
    {
      "cell_type": "markdown",
      "source": [
        "# Library"
      ],
      "metadata": {
        "id": "2pJt5FSEieKS"
      }
    },
    {
      "cell_type": "code",
      "execution_count": 55,
      "metadata": {
        "id": "0BKEDgIz_ydl"
      },
      "outputs": [],
      "source": [
        "import pandas as pd\n",
        "from bs4 import BeautifulSoup as bs\n",
        "from urllib.request import urlopen\n",
        "from urllib.parse import urljoin, urlparse\n",
        "import re\n",
        "import json\n",
        "import shutil\n",
        "import os"
      ]
    },
    {
      "cell_type": "markdown",
      "source": [
        "# Settings"
      ],
      "metadata": {
        "id": "90iGGrvjiglU"
      }
    },
    {
      "cell_type": "code",
      "source": [
        "BASE_PAGE_ADDRESS = 'https://boardgamegeek.com'\n",
        "BGG_USER_COLLECTION_URL = ''\n",
        "HTML_PARSER = 'html.parser'\n",
        "GAME_LIST_CSV_FILENAME = 'game_data.csv'\n",
        "CSV_DESTINATION_PATH = ''"
      ],
      "metadata": {
        "id": "taZGILZZFX5u"
      },
      "execution_count": 56,
      "outputs": []
    },
    {
      "cell_type": "markdown",
      "source": [
        "# Functions"
      ],
      "metadata": {
        "id": "fuVTk_-8iiMA"
      }
    },
    {
      "cell_type": "code",
      "source": [
        "def pretty_print_nested_dict(dictionary):\n",
        "\t\"\"\"Printing pretty dictionary in a nasted form.\n",
        "\tArgs:\n",
        "\t\tdictionary (dict): The nested dictionary to be printed.\n",
        "\t\"\"\"\n",
        "\tfor main_key, sub_dict in dictionary.items():\n",
        "\t\tif isinstance(sub_dict, dict):\n",
        "\t\t\tprint(f\"{main_key}:\")\n",
        "\t\t\tfor key, value in sub_dict.items():\n",
        "\t\t\t\tprint(f\"\\t{key}: {value}\")\n",
        "\t\telse:\n",
        "\t\t\tprint(f\"{main_key}: {sub_dict}\")\n",
        "\n",
        "\n",
        "def get_page_soup(url, parser = HTML_PARSER):\n",
        "\t\"\"\"Retrieves and parses the HTML content of a URL.\n",
        "\tArgs:\n",
        "\t\turl (str): The URL to be fetched and parsed.\n",
        "\t\tparser (str, optional): The parser to be used for page analysis.\n",
        "\t\tDefault: HTML_PARSER.\n",
        "\tReturns:\n",
        "\t\tBeautifulSoup: Parsed HTML content using the specified parser.\n",
        "\t\"\"\"\n",
        "\tresponse = urlopen(url)\n",
        "\turl_content = response.read()\n",
        "\treturn bs(url_content, parser)\n",
        "\n",
        "\n",
        "def create_game_link_dict(url, base_page_adress, parser = HTML_PARSER):\n",
        "\t\"\"\"Create a dictionary of game links from the provided URL and base URL.\n",
        "\tArgs:\n",
        "\t\turl (str): The URL of the page containing game links.\n",
        "\t\tbase_url (str): The base URL used to construct full game links.\n",
        "\tReturns:\n",
        "\t\tdict: A dictionary where keys are game names and\n",
        "\t\tvalues are their corresponding links.\n",
        "\t\"\"\"\n",
        "\tsoup = get_page_soup(url, parser)\n",
        "\tgame_link_dict = dict()\n",
        "\n",
        "\tfor tag in soup.find_all('td', class_=\"collection_objectname\"):\n",
        "\t\tgame_link_tag = tag.a\n",
        "\t\thref = game_link_tag['href']\n",
        "\t\tgame_name = game_link_tag.text\n",
        "\t\tgame_link_http = base_page_adress + href\n",
        "\t\tgame_link_dict[game_name] = game_link_http\n",
        "\n",
        "\treturn game_link_dict\n",
        "\n",
        "\n",
        "def extract_avg_players_rating(game_stats_dict):\n",
        "\t\"\"\"Extracts game statistics data about players rating.\n",
        "\tArgs:\n",
        "\t\tstats (dict): A dictionary containing game statistics.\n",
        "\tReturns:\n",
        "\t\tdict: A dictionary containing extracted statistics data about\n",
        "\t\taverage players rating (if available).\n",
        "\t\"\"\"\n",
        "\tcollected_stats = {}\n",
        "\tfor item, value in game_stats_dict.items():\n",
        "\t\tif item == 'average':\n",
        "\t\t\tcollected_stats[item +'_players_rating'] = value\n",
        "\treturn collected_stats\n",
        "\n",
        "\n",
        "def extract_min_max_players_data(item_data_dict):\n",
        "\t\"\"\"Extracts player count data.\n",
        "\tArgs:\n",
        "\t\titem_data (dict): A dictionary containing game data.\n",
        "\tReturns:\n",
        "\t\tdict: A dictionary containing extracted player count data (if available).\n",
        "\t\"\"\"\n",
        "\tplayer_data = {}\n",
        "\tfor item in ['minplayers', 'maxplayers']:\n",
        "\t\tif item in item_data_dict:\n",
        "\t\t\tplayer_data[item] = item_data_dict[item]\n",
        "\treturn player_data\n",
        "\n",
        "\n",
        "def extract_game_weight_data(polls_dict):\n",
        "\t\"\"\"Extracts game weight data.\n",
        "\tArgs:\n",
        "\t\tpolls (dict): A dictionary containing poll results.\n",
        "\tReturns:\n",
        "\t\tdict: A dictionary containing extracted game weight data (if available).\n",
        "\t\"\"\"\n",
        "\tweight_data = {}\n",
        "\tif 'boardgameweight' in polls_dict:\n",
        "\t\tweight_subdata = polls_dict['boardgameweight']\n",
        "\t\tif 'averageweight' in weight_subdata:\n",
        "\t\t\tweight_data['averageweight'] = weight_subdata['averageweight']\n",
        "\treturn weight_data\n",
        "\n",
        "\n",
        "def scrape_game_data(game_link, parser = HTML_PARSER):\n",
        "\t\"\"\"Scrapes game data based on the provided link.\n",
        "\tArgs:\n",
        "\t\tgame_link (str): Link to the game page.\n",
        "\t\tparser (str, optional): Parser to be used for page analysis.\n",
        "\t\tDefault: HTML_PARSER.\n",
        "\tReturns:\n",
        "\t\tdict: A dictionary containing the collected game data.\n",
        "\t\"\"\"\n",
        "\tcollected_data = {'link': game_link}\n",
        "\tgame_bs = get_page_soup(game_link, parser)\n",
        "\treg_compiler = re.compile(r'GEEK\\.geekitemPreload')\n",
        "\treg_searcher = r'GEEK\\.geekitemPreload\\s*=\\s*({.*?});'\n",
        "\t# Find <script> tags containing data\n",
        "\tscript_tags = game_bs.find_all('script', text = reg_compiler)\n",
        "\n",
        "\tfor script_tag in script_tags:\n",
        "\t\tmatch = re.search(reg_searcher, script_tag.string)\n",
        "\t\tif match:\n",
        "\t\t\tgeekitem_preload_text = match.group(1)\n",
        "\t\t\tgeekitem_preload = json.loads(geekitem_preload_text)\n",
        "\t\t\t# Extract data from individual sections\n",
        "\t\t\tstats_data = extract_avg_players_rating(geekitem_preload['item']['stats'])\n",
        "\t\t\tplayers_data = extract_min_max_players_data(geekitem_preload['item'])\n",
        "\t\t\tweight_data = extract_game_weight_data(geekitem_preload['item']['polls'])\n",
        "\t\t\tcollected_data.update(stats_data)\n",
        "\t\t\tcollected_data.update(players_data)\n",
        "\t\t\tcollected_data.update(weight_data)\n",
        "\n",
        "\treturn collected_data\n",
        "\n",
        "\n",
        "def scrape_all_game_data(game_link_dict, parser = HTML_PARSER):\n",
        "\t\"\"\"Scrape data for all games in the provided dictionary of game links.\n",
        "\tArgs:\n",
        "\t\tgame_link_dict (dict): A dictionary where keys are game names and values\n",
        "\t\tare their corresponding links.\n",
        "\t\tparser (str, optional): Parser to be used for page analysis.\n",
        "\t\tDefault: HTML_PARSER.\n",
        "\tReturns:\n",
        "\t\tdict: A dictionary where keys are game names and values are dictionaries\n",
        "\t\tcontaining the collected game data.\n",
        "\t\"\"\"\n",
        "\tgame_data_dict = dict()\n",
        "\tfor game_name, game_link in game_link_dict.items():\n",
        "\t\tcollected_data = scrape_game_data(game_link, parser)\n",
        "\t\tgame_data_dict[game_name] = collected_data\n",
        "\treturn game_data_dict\n",
        "\n",
        "\n",
        "def convert_objectcolumn_to_numeric(df):\n",
        "\t\"\"\"Convert object-type columns in a DataFrame to numeric data types\n",
        "\t(float or int).\n",
        "\tArgs:\n",
        "\t\t\tdf (pandas.DataFrame): The DataFrame containing columns to be converted.\n",
        "\tReturns:\n",
        "\t\t\tNone: The function modifies the input DataFrame in place by converting\n",
        "\t\t\teligible columns to numeric types (float or int) and replacing values that\n",
        "\t\t\tcannot be converted with NaN.\n",
        "\t\"\"\"\n",
        "\tfor column in df.columns.tolist():\n",
        "\t\tif pd.to_numeric(df[column], errors='coerce').notna().all():\n",
        "\t\t\tdf[column] = pd.to_numeric(df[column], errors='coerce')\n",
        "\treturn df\n",
        "\n",
        "def prepare_dataframe_from_dict(game_data_dict):\n",
        "\t\"\"\"Prepares a DataFrame from a dictionary of game data.\n",
        "\tArgs:\n",
        "\t\t\tgame_data_dict (dict): A dictionary containing game data with\n",
        "\t\t\tgame names as keys and data as values.\n",
        "\tReturns:\n",
        "\t\t\tpandas.DataFrame: A prepared DataFrame with game data, where\n",
        "\t\t\tgame names are in the 'nazwa_gry' column.\n",
        "\t\"\"\"\n",
        "\tdf = pd.DataFrame.from_dict(game_data_dict, orient='index')\n",
        "\tdf.reset_index(inplace=True)\n",
        "\tdf.rename(columns={'index': 'nazwa_gry'}, inplace=True)\n",
        "\tdf = convert_objectcolumn_to_numeric(df)\n",
        "\treturn df\n",
        "\n",
        "\n",
        "def convert_and_replace_decimal_separator(df):\n",
        "\t\"\"\"Converts all columns of a DataFrame to 'string' type\n",
        "\tand replaces dots with commas in numeric columns.\n",
        "\tThis operation is necessary to usage DF in\n",
        "\tgooglesheet as a numeric value.\n",
        "\tArgs:\n",
        "\t\t\tparam df: DataFrame whose columns need to be converted\n",
        "\t\t\tand where dots should be replaced with commas.\n",
        "\tRetuns:\n",
        "\t\t\tDataFrame after the conversion and replacement of decimal separators.\n",
        "\t\"\"\"\n",
        "\tfor column in df.columns.tolist():\n",
        "\t\t\tif pd.to_numeric(df[column], errors='coerce').notna().all():\n",
        "\t\t\t\tdf[column] = df[column].astype('string')\n",
        "\t\t\t\tdf[column] = df[column].apply(lambda x: x.replace('.', ','))\n",
        "\treturn df\n"
      ],
      "metadata": {
        "id": "7z-FoH7MEH-h"
      },
      "execution_count": 57,
      "outputs": []
    },
    {
      "cell_type": "markdown",
      "source": [
        "# Code"
      ],
      "metadata": {
        "id": "uZW_UvL3im0J"
      }
    },
    {
      "cell_type": "markdown",
      "source": [
        "## Create dict from BGG user's collection"
      ],
      "metadata": {
        "id": "0BIktptprwtS"
      }
    },
    {
      "cell_type": "code",
      "source": [
        "game_link_dict = create_game_link_dict(BGG_USER_COLLECTION_URL, BASE_PAGE_ADDRESS)\n",
        "game_data_dict = scrape_all_game_data(game_link_dict)"
      ],
      "metadata": {
        "id": "VhaEVG-OqBbW",
        "colab": {
          "base_uri": "https://localhost:8080/"
        },
        "outputId": "d34e6375-e122-4a43-f9b7-2668c779a539"
      },
      "execution_count": 58,
      "outputs": [
        {
          "output_type": "stream",
          "name": "stderr",
          "text": [
            "<ipython-input-57-76b5b7ed5383>:109: DeprecationWarning: The 'text' argument to find()-type methods is deprecated. Use 'string' instead.\n",
            "  script_tags = game_bs.find_all('script', text = reg_compiler)\n"
          ]
        }
      ]
    },
    {
      "cell_type": "markdown",
      "source": [
        "## Create DataFrame based on scrapped information from BGG user's collection"
      ],
      "metadata": {
        "id": "aheoXtkZsBcI"
      }
    },
    {
      "cell_type": "code",
      "source": [
        "game_list_df = prepare_dataframe_from_dict(game_data_dict)"
      ],
      "metadata": {
        "id": "yqN3qjbQhT4H"
      },
      "execution_count": 59,
      "outputs": []
    },
    {
      "cell_type": "markdown",
      "source": [
        "## Prepare DataFrame to convert data for transition into GoogleSheet"
      ],
      "metadata": {
        "id": "6PzlUcZvsdc5"
      }
    },
    {
      "cell_type": "code",
      "source": [
        "game_list_df_for_sheet = convert_and_replace_decimal_separator(game_list_df)"
      ],
      "metadata": {
        "id": "dlNyiL9GuyDO"
      },
      "execution_count": 60,
      "outputs": []
    },
    {
      "cell_type": "markdown",
      "source": [
        "## Save data and move them to indicated path"
      ],
      "metadata": {
        "id": "Ztz5iEIgssJJ"
      }
    },
    {
      "cell_type": "code",
      "source": [
        "game_list_df_for_sheet.to_csv(GAME_LIST_CSV_FILENAME, index = False)"
      ],
      "metadata": {
        "id": "z9qdtEt-iZwI"
      },
      "execution_count": 61,
      "outputs": []
    },
    {
      "cell_type": "code",
      "source": [
        "dest_url_for_csv = os.path.join(CSV_DESTINATION_PATH, GAME_LIST_CSV_FILENAME)"
      ],
      "metadata": {
        "id": "UhxT_bfOqNBD"
      },
      "execution_count": 62,
      "outputs": []
    },
    {
      "cell_type": "code",
      "source": [
        "# shutil.move('/content/game_data.csv', dest_url_for_csv)"
      ],
      "metadata": {
        "colab": {
          "base_uri": "https://localhost:8080/",
          "height": 35
        },
        "id": "oDqbrNC0rdq2",
        "outputId": "d7dad133-4737-405a-f248-30579bfadc61"
      },
      "execution_count": 63,
      "outputs": [
        {
          "output_type": "execute_result",
          "data": {
            "text/plain": [
              "'game_data.csv'"
            ],
            "application/vnd.google.colaboratory.intrinsic+json": {
              "type": "string"
            }
          },
          "metadata": {},
          "execution_count": 63
        }
      ]
    }
  ]
}